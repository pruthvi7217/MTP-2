{
 "cells": [
  {
   "cell_type": "code",
   "execution_count": 13,
   "metadata": {},
   "outputs": [],
   "source": [
    "# importing necessary modules\n",
    "from pymongo import MongoClient as mc\n",
    "#from pathlib import Path\n",
    "import matplotlib.pyplot as plt\n",
    "import cv2 as cv\n",
    "import numpy as np\n",
    "import pandas as pd\n",
    "import fingerprint_enhancer\n",
    "from walking import walking, walkonce, checkstable, mergeneighbors\n",
    "import math"
   ]
  },
  {
   "cell_type": "code",
   "execution_count": 14,
   "metadata": {},
   "outputs": [],
   "source": [
    "def get_image_paths_and_mv():\n",
    "    # this funciton only return image paths from \"FVC2000\" folder\n",
    "    main_lst = []\n",
    "    mvs = []\n",
    "    paths_list = []\n",
    "\n",
    "    db_client = mc(\"10.5.18.101\")\n",
    "    coll = db_client.BI.FVC2006\n",
    "    coll = coll.find({})\n",
    "    \n",
    "    for i in coll:\n",
    "        #if(so_far < count):\n",
    "        main_lst.append(['../../../19CS91R05/datasets/' + i['path'] , i['mv'] ])\n",
    "        paths_list.append('../../../19CS91R05/datasets/' + i['path'])\n",
    "        mvs.append(i['mv'])\n",
    "    \n",
    "    return main_lst"
   ]
  },
  {
   "cell_type": "code",
   "execution_count": 15,
   "metadata": {},
   "outputs": [],
   "source": [
    "def walk_core2(en_image):\n",
    "\tdetect_SP = walking(en_image)\n",
    "\treturn detect_SP"
   ]
  },
  {
   "cell_type": "code",
   "execution_count": 16,
   "metadata": {},
   "outputs": [],
   "source": [
    "# Lets check the Minutiae binary pattern\n",
    "\n",
    "def checkIfPossible(x,y,image_height, image_width):\n",
    "    if(x<0 or x>=image_height):\n",
    "        return False\n",
    "    elif(y<0 or y>=image_width):\n",
    "        return False\n",
    "    return True\n",
    "\n",
    "def GetMinutiaBinaryPattern(minutiae, fingerprint):\n",
    "    MBP_List = []\n",
    "    # fingerprint = cv.imread(fingerprint_path, cv.IMREAD_GRAYSCALE)\n",
    "\n",
    "    image_height, image_width = fingerprint.shape\n",
    "\n",
    "    for i in minutiae:\n",
    "        x, y = i[:2]\n",
    "        window = [[0 for i in range(3)] for j in range(3)]\n",
    "        if(checkIfPossible(x-1, y+1,image_height,image_width)):\n",
    "            window[0][0] = fingerprint[x-1][y+1]\n",
    "        if(checkIfPossible(x, y+1,image_height,image_width)):\n",
    "            window[0][1] = fingerprint[x][y+1]\n",
    "        if(checkIfPossible(x+1, y+1,image_height,image_width)):\n",
    "            window[0][2] = fingerprint[x+1][y+1]\n",
    "        if(checkIfPossible(x-1, y,image_height,image_width)):\n",
    "            window[1][0] = fingerprint[x-1][y]\n",
    "        if(checkIfPossible(x, y,image_height,image_width)):\n",
    "            window[1][1] = fingerprint[x][y]\n",
    "        if(checkIfPossible(x+1, y,image_height,image_width)):\n",
    "            window[1][2] = fingerprint[x+1][y]\n",
    "        if(checkIfPossible(x-1, y-1,image_height,image_width)):\n",
    "            window[2][0] = fingerprint[x-1][y-1]\n",
    "        if(checkIfPossible(x, y-1,image_height,image_width)):\n",
    "            window[2][1] = fingerprint[x][y-1]\n",
    "        if(checkIfPossible(x+1, y-1,image_height,image_width)):\n",
    "            window[2][2] = fingerprint[x+1][y-1]\n",
    "        \n",
    "        temp = []\n",
    "        \n",
    "        # direction of MBP vector (0,0) -> (0,1) -> (0,2) -> (1,2) -> (2,2) -> (2,1) -> (2,0) -> (1,0)\n",
    "        # Hard coding\n",
    "\n",
    "        temp.append(window[0][0]//255)\n",
    "        temp.append(window[0][1]//255)\n",
    "        temp.append(window[0][2]//255)\n",
    "        temp.append(window[1][2]//255)\n",
    "        temp.append(window[2][2]//255)\n",
    "        temp.append(window[2][1]//255)\n",
    "        temp.append(window[2][0]//255)\n",
    "        temp.append(window[1][0]//255)\n",
    "        \n",
    "        \n",
    "        # for j in range(3):\n",
    "        #     for k in range(3):\n",
    "        #         if(k == 1 and j ==1):\n",
    "        #             continue\n",
    "        #         else:\n",
    "        #             temp.append(window[j][k])\n",
    "        MBP_List.append(temp)\n",
    "    return MBP_List"
   ]
  },
  {
   "cell_type": "code",
   "execution_count": 17,
   "metadata": {},
   "outputs": [],
   "source": [
    "def create_data_frame(lst):\n",
    "    fingerprint_path, minutia = lst\n",
    "    # global main_df\n",
    "    img = cv.imread(fingerprint_path,cv.IMREAD_GRAYSCALE)\n",
    "    en_image = fingerprint_enhancer.enhance_Fingerprint(img)\n",
    "    # en_image_bw = cv.cvtColor(en_image, cv.COLOR_GRAY2BGR)\n",
    "    distance = []\n",
    "    sectors = []\n",
    "    try:\n",
    "        SP = walk_core2(en_image)\n",
    "    except:\n",
    "        return\n",
    "    \n",
    "    if(min(SP['core'].shape) == 0):\n",
    "        if min(SP['delta'].shape) == 0:\n",
    "            # NO Singular Point\n",
    "            return\n",
    "        else:\n",
    "            CorePoint = (int(SP['delta'][0,0]), int(SP['delta'][0,1]))\n",
    "    else:\n",
    "        CorePoint = (int(SP['core'][0,0]), int(SP['core'][0,1]))\n",
    "\n",
    "    for i in minutia:\n",
    "\n",
    "        dis = ((CorePoint[0] - i[0])**2 + (CorePoint[1] - i[1])**2 )**0.5\n",
    "\n",
    "        distance.append(dis)\n",
    "\n",
    "        rads = math.atan2((i[1]- CorePoint[1]), (i[0]- CorePoint[0]))\n",
    "        \n",
    "        #if CorePoint[0] == i[0]:\n",
    "        #    rads = 90\n",
    "        #else:\n",
    "        #    rads = math.atan((CorePoint[1] - i[1])/(CorePoint[0] - i[0]))\n",
    "\n",
    "\n",
    "        degs = math.degrees(rads)\n",
    "        if degs < 0:\n",
    "            degs = 360 + degs\n",
    "        \n",
    "        sectors.append(int(degs//5 + 1 ))\n",
    "    \n",
    "    mbps = GetMinutiaBinaryPattern(minutia, en_image)\n",
    "    pths = [fingerprint_path for i in range(len(minutia))]\n",
    "    \n",
    "    data = {\n",
    "        \"Distance\" : distance,\n",
    "        \"Sector\" : sectors,\n",
    "        \"MBP\" : mbps,\n",
    "        \"Image Path\" : pths \n",
    "    }\n",
    "    \n",
    "    new_df = pd.DataFrame(data)\n",
    "    \n",
    "    return new_df\n",
    "\n"
   ]
  },
  {
   "cell_type": "code",
   "execution_count": 20,
   "metadata": {},
   "outputs": [],
   "source": [
    "from multiprocessing import Pool\n",
    "main_df = pd.DataFrame(columns= ['Distance', 'Sector', 'MBP', 'Image Path'])\n",
    "lst = get_image_paths_and_mv()\n",
    "with Pool(10) as P:\n",
    "    ans = P.map(create_data_frame, lst)"
   ]
  },
  {
   "cell_type": "code",
   "execution_count": 21,
   "metadata": {},
   "outputs": [
    {
     "data": {
      "text/plain": [
       "[]"
      ]
     },
     "execution_count": 21,
     "metadata": {},
     "output_type": "execute_result"
    }
   ],
   "source": [
    "lst"
   ]
  },
  {
   "cell_type": "code",
   "execution_count": 19,
   "metadata": {},
   "outputs": [
    {
     "ename": "ValueError",
     "evalue": "No objects to concatenate",
     "output_type": "error",
     "traceback": [
      "\u001b[0;31m---------------------------------------------------------------------------\u001b[0m",
      "\u001b[0;31mValueError\u001b[0m                                Traceback (most recent call last)",
      "Cell \u001b[0;32mIn[19], line 1\u001b[0m\n\u001b[0;32m----> 1\u001b[0m con \u001b[39m=\u001b[39m pd\u001b[39m.\u001b[39;49mconcat(ans, ignore_index\u001b[39m=\u001b[39;49m\u001b[39mTrue\u001b[39;49;00m)\n\u001b[1;32m      2\u001b[0m con\u001b[39m.\u001b[39mto_csv(\u001b[39m'\u001b[39m\u001b[39mFVC_2006_index_space.csv\u001b[39m\u001b[39m'\u001b[39m)\n\u001b[1;32m      3\u001b[0m con\n",
      "File \u001b[0;32m~/anaconda3/envs/walking_algo/lib/python3.10/site-packages/pandas/util/_decorators.py:331\u001b[0m, in \u001b[0;36mdeprecate_nonkeyword_arguments.<locals>.decorate.<locals>.wrapper\u001b[0;34m(*args, **kwargs)\u001b[0m\n\u001b[1;32m    325\u001b[0m \u001b[39mif\u001b[39;00m \u001b[39mlen\u001b[39m(args) \u001b[39m>\u001b[39m num_allow_args:\n\u001b[1;32m    326\u001b[0m     warnings\u001b[39m.\u001b[39mwarn(\n\u001b[1;32m    327\u001b[0m         msg\u001b[39m.\u001b[39mformat(arguments\u001b[39m=\u001b[39m_format_argument_list(allow_args)),\n\u001b[1;32m    328\u001b[0m         \u001b[39mFutureWarning\u001b[39;00m,\n\u001b[1;32m    329\u001b[0m         stacklevel\u001b[39m=\u001b[39mfind_stack_level(),\n\u001b[1;32m    330\u001b[0m     )\n\u001b[0;32m--> 331\u001b[0m \u001b[39mreturn\u001b[39;00m func(\u001b[39m*\u001b[39;49margs, \u001b[39m*\u001b[39;49m\u001b[39m*\u001b[39;49mkwargs)\n",
      "File \u001b[0;32m~/anaconda3/envs/walking_algo/lib/python3.10/site-packages/pandas/core/reshape/concat.py:368\u001b[0m, in \u001b[0;36mconcat\u001b[0;34m(objs, axis, join, ignore_index, keys, levels, names, verify_integrity, sort, copy)\u001b[0m\n\u001b[1;32m    146\u001b[0m \u001b[39m@deprecate_nonkeyword_arguments\u001b[39m(version\u001b[39m=\u001b[39m\u001b[39mNone\u001b[39;00m, allowed_args\u001b[39m=\u001b[39m[\u001b[39m\"\u001b[39m\u001b[39mobjs\u001b[39m\u001b[39m\"\u001b[39m])\n\u001b[1;32m    147\u001b[0m \u001b[39mdef\u001b[39;00m \u001b[39mconcat\u001b[39m(\n\u001b[1;32m    148\u001b[0m     objs: Iterable[NDFrame] \u001b[39m|\u001b[39m Mapping[HashableT, NDFrame],\n\u001b[0;32m   (...)\u001b[0m\n\u001b[1;32m    157\u001b[0m     copy: \u001b[39mbool\u001b[39m \u001b[39m=\u001b[39m \u001b[39mTrue\u001b[39;00m,\n\u001b[1;32m    158\u001b[0m ) \u001b[39m-\u001b[39m\u001b[39m>\u001b[39m DataFrame \u001b[39m|\u001b[39m Series:\n\u001b[1;32m    159\u001b[0m     \u001b[39m\"\"\"\u001b[39;00m\n\u001b[1;32m    160\u001b[0m \u001b[39m    Concatenate pandas objects along a particular axis.\u001b[39;00m\n\u001b[1;32m    161\u001b[0m \n\u001b[0;32m   (...)\u001b[0m\n\u001b[1;32m    366\u001b[0m \u001b[39m    1   3   4\u001b[39;00m\n\u001b[1;32m    367\u001b[0m \u001b[39m    \"\"\"\u001b[39;00m\n\u001b[0;32m--> 368\u001b[0m     op \u001b[39m=\u001b[39m _Concatenator(\n\u001b[1;32m    369\u001b[0m         objs,\n\u001b[1;32m    370\u001b[0m         axis\u001b[39m=\u001b[39;49maxis,\n\u001b[1;32m    371\u001b[0m         ignore_index\u001b[39m=\u001b[39;49mignore_index,\n\u001b[1;32m    372\u001b[0m         join\u001b[39m=\u001b[39;49mjoin,\n\u001b[1;32m    373\u001b[0m         keys\u001b[39m=\u001b[39;49mkeys,\n\u001b[1;32m    374\u001b[0m         levels\u001b[39m=\u001b[39;49mlevels,\n\u001b[1;32m    375\u001b[0m         names\u001b[39m=\u001b[39;49mnames,\n\u001b[1;32m    376\u001b[0m         verify_integrity\u001b[39m=\u001b[39;49mverify_integrity,\n\u001b[1;32m    377\u001b[0m         copy\u001b[39m=\u001b[39;49mcopy,\n\u001b[1;32m    378\u001b[0m         sort\u001b[39m=\u001b[39;49msort,\n\u001b[1;32m    379\u001b[0m     )\n\u001b[1;32m    381\u001b[0m     \u001b[39mreturn\u001b[39;00m op\u001b[39m.\u001b[39mget_result()\n",
      "File \u001b[0;32m~/anaconda3/envs/walking_algo/lib/python3.10/site-packages/pandas/core/reshape/concat.py:425\u001b[0m, in \u001b[0;36m_Concatenator.__init__\u001b[0;34m(self, objs, axis, join, keys, levels, names, ignore_index, verify_integrity, copy, sort)\u001b[0m\n\u001b[1;32m    422\u001b[0m     objs \u001b[39m=\u001b[39m \u001b[39mlist\u001b[39m(objs)\n\u001b[1;32m    424\u001b[0m \u001b[39mif\u001b[39;00m \u001b[39mlen\u001b[39m(objs) \u001b[39m==\u001b[39m \u001b[39m0\u001b[39m:\n\u001b[0;32m--> 425\u001b[0m     \u001b[39mraise\u001b[39;00m \u001b[39mValueError\u001b[39;00m(\u001b[39m\"\u001b[39m\u001b[39mNo objects to concatenate\u001b[39m\u001b[39m\"\u001b[39m)\n\u001b[1;32m    427\u001b[0m \u001b[39mif\u001b[39;00m keys \u001b[39mis\u001b[39;00m \u001b[39mNone\u001b[39;00m:\n\u001b[1;32m    428\u001b[0m     objs \u001b[39m=\u001b[39m \u001b[39mlist\u001b[39m(com\u001b[39m.\u001b[39mnot_none(\u001b[39m*\u001b[39mobjs))\n",
      "\u001b[0;31mValueError\u001b[0m: No objects to concatenate"
     ]
    }
   ],
   "source": [
    "con = pd.concat(ans, ignore_index=True)\n",
    "con.to_csv('FVC_2006_index_space.csv')\n",
    "con"
   ]
  },
  {
   "cell_type": "code",
   "execution_count": null,
   "metadata": {},
   "outputs": [],
   "source": []
  }
 ],
 "metadata": {
  "kernelspec": {
   "display_name": "walking_algo",
   "language": "python",
   "name": "python3"
  },
  "language_info": {
   "codemirror_mode": {
    "name": "ipython",
    "version": 3
   },
   "file_extension": ".py",
   "mimetype": "text/x-python",
   "name": "python",
   "nbconvert_exporter": "python",
   "pygments_lexer": "ipython3",
   "version": "3.10.8"
  },
  "orig_nbformat": 4
 },
 "nbformat": 4,
 "nbformat_minor": 2
}
