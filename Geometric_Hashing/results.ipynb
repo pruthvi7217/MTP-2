{
 "cells": [
  {
   "cell_type": "code",
   "execution_count": null,
   "metadata": {},
   "outputs": [],
   "source": [
    "import pymongo\n",
    "\n",
    "# Set up a MongoDB client object\n",
    "client = pymongo.MongoClient(\"10.5.18.101\")\n",
    "\n",
    "# Access a specific database\n",
    "db = client['BI']\n",
    "\n",
    "# List all collections in the database\n",
    "collection_names = db.list_collection_names()\n",
    "\n",
    "for name in collection_names:\n",
    "    print(name)\n"
   ]
  },
  {
   "cell_type": "code",
   "execution_count": 1,
   "metadata": {},
   "outputs": [
    {
     "ename": "AttributeError",
     "evalue": "module 'cv2' has no attribute 'ximgproc'",
     "output_type": "error",
     "traceback": [
      "\u001b[0;31m---------------------------------------------------------------------------\u001b[0m",
      "\u001b[0;31mAttributeError\u001b[0m                            Traceback (most recent call last)",
      "Cell \u001b[0;32mIn[1], line 3\u001b[0m\n\u001b[1;32m      1\u001b[0m \u001b[39mfrom\u001b[39;00m \u001b[39mExtractMinutiae\u001b[39;00m \u001b[39mimport\u001b[39;00m get_minutiae\n\u001b[0;32m----> 3\u001b[0m minutiae \u001b[39m=\u001b[39m get_minutiae(\u001b[39m\"\u001b[39;49m\u001b[39m/home/rs/19CS91R05/pruthvi_18EC35041/datasets/FVC2000/Dbs/Db1_a/1_1.tif\u001b[39;49m\u001b[39m\"\u001b[39;49m)\n",
      "File \u001b[0;32m~/pruthvi_18EC35041/Geometric_Hashing/ExtractMinutiae.py:160\u001b[0m, in \u001b[0;36mget_minutiae\u001b[0;34m(img_file)\u001b[0m\n\u001b[1;32m    158\u001b[0m \u001b[39mdef\u001b[39;00m \u001b[39mget_minutiae\u001b[39m(img_file):\n\u001b[1;32m    159\u001b[0m     img0\u001b[39m=\u001b[39mcv\u001b[39m.\u001b[39mimread(img_file,cv\u001b[39m.\u001b[39mIMREAD_GRAYSCALE)\n\u001b[0;32m--> 160\u001b[0m     img1\u001b[39m=\u001b[39mskeletonize(binarize(enhancer(img0)))\n\u001b[1;32m    161\u001b[0m     mask \u001b[39m=\u001b[39m filter_mask(img0)\n\u001b[1;32m    162\u001b[0m     \u001b[39m# minutiae_pts_arr = minutiae_points(img1)\u001b[39;00m\n",
      "File \u001b[0;32m~/pruthvi_18EC35041/Geometric_Hashing/ExtractMinutiae.py:48\u001b[0m, in \u001b[0;36mskeletonize\u001b[0;34m(img)\u001b[0m\n\u001b[1;32m     47\u001b[0m \u001b[39mdef\u001b[39;00m \u001b[39mskeletonize\u001b[39m(img):\n\u001b[0;32m---> 48\u001b[0m     skeleton \u001b[39m=\u001b[39m cv\u001b[39m.\u001b[39;49mximgproc\u001b[39m.\u001b[39mthinning(img, thinningType \u001b[39m=\u001b[39m cv\u001b[39m.\u001b[39mximgproc\u001b[39m.\u001b[39mTHINNING_GUOHALL)\n\u001b[1;32m     49\u001b[0m     \u001b[39m# plt.imshow(cv.cvtColor(skeleton, cv.COLOR_RGB2BGR))\u001b[39;00m\n\u001b[1;32m     50\u001b[0m     \u001b[39mreturn\u001b[39;00m skeleton\n",
      "\u001b[0;31mAttributeError\u001b[0m: module 'cv2' has no attribute 'ximgproc'"
     ]
    }
   ],
   "source": [
    "from ExtractMinutiae import get_minutiae\n",
    "\n",
    "minutiae = get_minutiae(\"/home/rs/19CS91R05/pruthvi_18EC35041/datasets/FVC2000/Dbs/Db1_a/1_1.tif\")"
   ]
  },
  {
   "cell_type": "code",
   "execution_count": null,
   "metadata": {},
   "outputs": [],
   "source": []
  }
 ],
 "metadata": {
  "kernelspec": {
   "display_name": "walking_algo",
   "language": "python",
   "name": "python3"
  },
  "language_info": {
   "codemirror_mode": {
    "name": "ipython",
    "version": 3
   },
   "file_extension": ".py",
   "mimetype": "text/x-python",
   "name": "python",
   "nbconvert_exporter": "python",
   "pygments_lexer": "ipython3",
   "version": "3.10.8"
  },
  "orig_nbformat": 4
 },
 "nbformat": 4,
 "nbformat_minor": 2
}
