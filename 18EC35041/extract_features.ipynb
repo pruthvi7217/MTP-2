{
 "cells": [
  {
   "cell_type": "code",
   "execution_count": 1,
   "metadata": {},
   "outputs": [],
   "source": [
    "from scipy.spatial import Delaunay\n",
    "from classes import Parallel\n",
    "from pathlib import Path\n",
    "from pymongo import MongoClient as mc\n",
    "import numpy as np\n",
    "import math"
   ]
  },
  {
   "cell_type": "code",
   "execution_count": 2,
   "metadata": {},
   "outputs": [],
   "source": [
    "def basicFeatures(mpts):\n",
    "    fv = []\n",
    "    \n",
    "    res = []\n",
    "    res.append(mpts[0])\n",
    "    mpts = mpts[1]\n",
    "    mpts = [i[:2] for i in mpts]\n",
    "    tri = Delaunay(mpts)\n",
    "    triangles = tri.simplices\n",
    "    for t in triangles:\n",
    "        vertices = [mpts[i] for i in t]\n",
    "        l1 = ((vertices[1][0]-vertices[2][0])**2+(vertices[1][1]-vertices[2][1])**2)**0.5\n",
    "        l2 = ((vertices[0][0]-vertices[2][0])**2+(vertices[0][1]-vertices[2][1])**2)**0.5\n",
    "        l3 = ((vertices[0][0]-vertices[1][0])**2+(vertices[0][1]-vertices[1][1])**2)**0.5\n",
    "        alpha1 = math.acos((l2*l2+l3*l3-l1*l1)/(2*l2*l3))\n",
    "        alpha2 = math.acos((l1*l1+l3*l3-l2*l2)/(2*l3*l1))\n",
    "        alpha3 = math.acos((l2*l2+l1*l1-l3*l3)/(2*l2*l1))\n",
    "        alpha_max = max(alpha1,max(alpha2,alpha3))\n",
    "        if alpha_max>(2/3)*math.pi:\n",
    "            continue\n",
    "        alpha=math.cos(alpha_max)\n",
    "        p=l1+l2+l3\n",
    "        s=p/2\n",
    "        a=(s*(s-l1)*(s-l2)*(s-l3))**0.5\n",
    "        beta=(p*p)/a\n",
    "        gamma=max(l1,max(l2,l3))/min(l1,min(l2,l3))\n",
    "        fv.append([alpha, beta, gamma])\n",
    "    res.append(fv)\n",
    "    return res"
   ]
  },
  {
   "cell_type": "code",
   "execution_count": 3,
   "metadata": {},
   "outputs": [
    {
     "name": "stdout",
     "output_type": "stream",
     "text": [
      "<class 'pymongo.database.Database'>\n",
      "<class 'pymongo.collection.Collection'>\n",
      "1200000\n"
     ]
    },
    {
     "name": "stderr",
     "output_type": "stream",
     "text": [
      "/tmp/ipykernel_40404/1852542332.py:6: DeprecationWarning: count is deprecated. Use Collection.count_documents instead.\n",
      "  print(all_records.count())\n"
     ]
    }
   ],
   "source": [
    "db_database = mc('10.5.18.101').BI\n",
    "print(type(db_database))\n",
    "db_collection = db_database['Anguli_200k_1M']\n",
    "print(type(db_collection))\n",
    "all_records = db_collection.find()\n",
    "print(all_records.count())"
   ]
  },
  {
   "cell_type": "code",
   "execution_count": 4,
   "metadata": {},
   "outputs": [],
   "source": [
    "proc_set = [[i['_id'], i['mv']] for i in db_collection.find({})]\n"
   ]
  },
  {
   "cell_type": "code",
   "execution_count": 5,
   "metadata": {},
   "outputs": [
    {
     "name": "stdout",
     "output_type": "stream",
     "text": [
      "1200000\n",
      "<class 'bson.objectid.ObjectId'>\n",
      "\n",
      "\n"
     ]
    }
   ],
   "source": [
    "print(len(proc_set))\n",
    "print(type(proc_set[0][0]))\n",
    "l = 0\n",
    "for i in proc_set:\n",
    "    if l < 2:   \n",
    "        print()\n",
    "        l += 1"
   ]
  },
  {
   "cell_type": "markdown",
   "metadata": {},
   "source": [
    "Code for extracting all features"
   ]
  },
  {
   "cell_type": "code",
   "execution_count": 6,
   "metadata": {},
   "outputs": [],
   "source": [
    "data = []\n",
    "proc_list = proc_set\n",
    "for i in proc_list[:5000]:\n",
    "    data.append(basicFeatures(i))\n"
   ]
  },
  {
   "cell_type": "code",
   "execution_count": 7,
   "metadata": {},
   "outputs": [],
   "source": [
    "vctrs = [i[1] for i in data]"
   ]
  },
  {
   "cell_type": "code",
   "execution_count": 8,
   "metadata": {},
   "outputs": [],
   "source": [
    "kmns = []\n",
    "for i in vctrs:\n",
    "    kmns = kmns + i"
   ]
  },
  {
   "cell_type": "code",
   "execution_count": 9,
   "metadata": {},
   "outputs": [
    {
     "data": {
      "text/plain": [
       "625705"
      ]
     },
     "execution_count": 9,
     "metadata": {},
     "output_type": "execute_result"
    }
   ],
   "source": [
    "len(kmns)"
   ]
  },
  {
   "cell_type": "code",
   "execution_count": 10,
   "metadata": {},
   "outputs": [
    {
     "data": {
      "text/plain": [
       "[[0.20695859104439152, 23.239079073742147, 1.6363224072315832],\n",
       " [0.06507913734559692, 27.531965329832087, 2.2730003546512916],\n",
       " [0.09788826992209923, 22.46941536248438, 1.3636509148337823],\n",
       " [0.2819973081348389, 22.247360525108114, 1.4571842504438999],\n",
       " [-0.02558888781907636, 23.814807432387095, 1.573100451473447],\n",
       " [0.1318438591124176, 28.00974524810508, 2.339007826796387],\n",
       " [-0.056847423639598965, 25.363153716761595, 1.867503030136114],\n",
       " [0.0819155567294537, 23.044381242941455, 1.5452931872245987],\n",
       " [0.3454632411252103, 22.31619472951742, 1.4442188695835112],\n",
       " [0.06244649161166468, 27.285270496805058, 2.2375851559922233],\n",
       " [-0.3538920974158912, 28.548621110036883, 1.7542950209152859],\n",
       " [0.12835604651426002, 23.113272373756875, 1.5970255097957131],\n",
       " [0.2998369371092684, 22.498686330998524, 1.4951354087050213],\n",
       " [-0.041202096209968335, 28.659118429894367, 2.3934106297708624],\n",
       " [-0.0343332755538526, 24.535175043210483, 1.7355403364057171],\n",
       " [0.305064472298919, 21.894770844910138, 1.3870265706953249],\n",
       " [0.22132215607820951, 25.419502909713056, 1.9580783427790056],\n",
       " [0.20952908873087345, 22.82320906765424, 1.5652475842498528],\n",
       " [-0.09053574604251871, 24.36474519916935, 1.559115186230455],\n",
       " [0.15658105433828062, 23.30478035370687, 1.6428983669867674]]"
      ]
     },
     "execution_count": 10,
     "metadata": {},
     "output_type": "execute_result"
    }
   ],
   "source": [
    "kmns[:20]"
   ]
  },
  {
   "cell_type": "code",
   "execution_count": 11,
   "metadata": {},
   "outputs": [],
   "source": [
    "from scipy.cluster.vq import vq, kmeans, whiten\n",
    "\n",
    "wtend = whiten(np.array(kmns))"
   ]
  },
  {
   "cell_type": "code",
   "execution_count": 12,
   "metadata": {},
   "outputs": [
    {
     "data": {
      "text/plain": [
       "array([[ 0.86566456,  1.62586052,  0.91904663],\n",
       "       [ 0.27221244,  1.92620092,  1.27663919],\n",
       "       [ 0.40944619,  1.57201304,  0.76589966],\n",
       "       ...,\n",
       "       [ 1.49897503,  1.48600655,  0.69263885],\n",
       "       [ 0.00490362,  1.63907807,  0.8475555 ],\n",
       "       [-0.04080578,  2.58313207,  1.9746468 ]])"
      ]
     },
     "execution_count": 12,
     "metadata": {},
     "output_type": "execute_result"
    }
   ],
   "source": [
    "wtend"
   ]
  },
  {
   "cell_type": "code",
   "execution_count": 13,
   "metadata": {},
   "outputs": [],
   "source": [
    "points = np.array((wtend[0], wtend[1], wtend[2]))"
   ]
  },
  {
   "cell_type": "code",
   "execution_count": 14,
   "metadata": {},
   "outputs": [],
   "source": [
    "fnl = kmeans(wtend, 300)"
   ]
  },
  {
   "cell_type": "code",
   "execution_count": 16,
   "metadata": {},
   "outputs": [
    {
     "data": {
      "text/plain": [
       "tuple"
      ]
     },
     "execution_count": 16,
     "metadata": {},
     "output_type": "execute_result"
    }
   ],
   "source": [
    "type(fnl)"
   ]
  },
  {
   "cell_type": "code",
   "execution_count": 18,
   "metadata": {},
   "outputs": [
    {
     "data": {
      "text/plain": [
       "2"
      ]
     },
     "execution_count": 18,
     "metadata": {},
     "output_type": "execute_result"
    }
   ],
   "source": [
    "len(fnl)"
   ]
  },
  {
   "cell_type": "code",
   "execution_count": 20,
   "metadata": {},
   "outputs": [],
   "source": [
    "from sklearn.cluster import KMeans\n",
    "\n",
    "k = KMeans(n_clusters= 300, random_state= 0).fit(np.array(kmns))"
   ]
  },
  {
   "cell_type": "code",
   "execution_count": 37,
   "metadata": {},
   "outputs": [],
   "source": [
    "clus = [0 for i in range(301)]"
   ]
  },
  {
   "cell_type": "code",
   "execution_count": 22,
   "metadata": {},
   "outputs": [
    {
     "data": {
      "text/html": [
       "<style>#sk-container-id-1 {color: black;background-color: white;}#sk-container-id-1 pre{padding: 0;}#sk-container-id-1 div.sk-toggleable {background-color: white;}#sk-container-id-1 label.sk-toggleable__label {cursor: pointer;display: block;width: 100%;margin-bottom: 0;padding: 0.3em;box-sizing: border-box;text-align: center;}#sk-container-id-1 label.sk-toggleable__label-arrow:before {content: \"▸\";float: left;margin-right: 0.25em;color: #696969;}#sk-container-id-1 label.sk-toggleable__label-arrow:hover:before {color: black;}#sk-container-id-1 div.sk-estimator:hover label.sk-toggleable__label-arrow:before {color: black;}#sk-container-id-1 div.sk-toggleable__content {max-height: 0;max-width: 0;overflow: hidden;text-align: left;background-color: #f0f8ff;}#sk-container-id-1 div.sk-toggleable__content pre {margin: 0.2em;color: black;border-radius: 0.25em;background-color: #f0f8ff;}#sk-container-id-1 input.sk-toggleable__control:checked~div.sk-toggleable__content {max-height: 200px;max-width: 100%;overflow: auto;}#sk-container-id-1 input.sk-toggleable__control:checked~label.sk-toggleable__label-arrow:before {content: \"▾\";}#sk-container-id-1 div.sk-estimator input.sk-toggleable__control:checked~label.sk-toggleable__label {background-color: #d4ebff;}#sk-container-id-1 div.sk-label input.sk-toggleable__control:checked~label.sk-toggleable__label {background-color: #d4ebff;}#sk-container-id-1 input.sk-hidden--visually {border: 0;clip: rect(1px 1px 1px 1px);clip: rect(1px, 1px, 1px, 1px);height: 1px;margin: -1px;overflow: hidden;padding: 0;position: absolute;width: 1px;}#sk-container-id-1 div.sk-estimator {font-family: monospace;background-color: #f0f8ff;border: 1px dotted black;border-radius: 0.25em;box-sizing: border-box;margin-bottom: 0.5em;}#sk-container-id-1 div.sk-estimator:hover {background-color: #d4ebff;}#sk-container-id-1 div.sk-parallel-item::after {content: \"\";width: 100%;border-bottom: 1px solid gray;flex-grow: 1;}#sk-container-id-1 div.sk-label:hover label.sk-toggleable__label {background-color: #d4ebff;}#sk-container-id-1 div.sk-serial::before {content: \"\";position: absolute;border-left: 1px solid gray;box-sizing: border-box;top: 0;bottom: 0;left: 50%;z-index: 0;}#sk-container-id-1 div.sk-serial {display: flex;flex-direction: column;align-items: center;background-color: white;padding-right: 0.2em;padding-left: 0.2em;position: relative;}#sk-container-id-1 div.sk-item {position: relative;z-index: 1;}#sk-container-id-1 div.sk-parallel {display: flex;align-items: stretch;justify-content: center;background-color: white;position: relative;}#sk-container-id-1 div.sk-item::before, #sk-container-id-1 div.sk-parallel-item::before {content: \"\";position: absolute;border-left: 1px solid gray;box-sizing: border-box;top: 0;bottom: 0;left: 50%;z-index: -1;}#sk-container-id-1 div.sk-parallel-item {display: flex;flex-direction: column;z-index: 1;position: relative;background-color: white;}#sk-container-id-1 div.sk-parallel-item:first-child::after {align-self: flex-end;width: 50%;}#sk-container-id-1 div.sk-parallel-item:last-child::after {align-self: flex-start;width: 50%;}#sk-container-id-1 div.sk-parallel-item:only-child::after {width: 0;}#sk-container-id-1 div.sk-dashed-wrapped {border: 1px dashed gray;margin: 0 0.4em 0.5em 0.4em;box-sizing: border-box;padding-bottom: 0.4em;background-color: white;}#sk-container-id-1 div.sk-label label {font-family: monospace;font-weight: bold;display: inline-block;line-height: 1.2em;}#sk-container-id-1 div.sk-label-container {text-align: center;}#sk-container-id-1 div.sk-container {/* jupyter's `normalize.less` sets `[hidden] { display: none; }` but bootstrap.min.css set `[hidden] { display: none !important; }` so we also need the `!important` here to be able to override the default hidden behavior on the sphinx rendered scikit-learn.org. See: https://github.com/scikit-learn/scikit-learn/issues/21755 */display: inline-block !important;position: relative;}#sk-container-id-1 div.sk-text-repr-fallback {display: none;}</style><div id=\"sk-container-id-1\" class=\"sk-top-container\"><div class=\"sk-text-repr-fallback\"><pre>KMeans(n_clusters=300, random_state=0)</pre><b>In a Jupyter environment, please rerun this cell to show the HTML representation or trust the notebook. <br />On GitHub, the HTML representation is unable to render, please try loading this page with nbviewer.org.</b></div><div class=\"sk-container\" hidden><div class=\"sk-item\"><div class=\"sk-estimator sk-toggleable\"><input class=\"sk-toggleable__control sk-hidden--visually\" id=\"sk-estimator-id-1\" type=\"checkbox\" checked><label for=\"sk-estimator-id-1\" class=\"sk-toggleable__label sk-toggleable__label-arrow\">KMeans</label><div class=\"sk-toggleable__content\"><pre>KMeans(n_clusters=300, random_state=0)</pre></div></div></div></div></div>"
      ],
      "text/plain": [
       "KMeans(n_clusters=300, random_state=0)"
      ]
     },
     "execution_count": 22,
     "metadata": {},
     "output_type": "execute_result"
    }
   ],
   "source": [
    "k"
   ]
  },
  {
   "cell_type": "code",
   "execution_count": 26,
   "metadata": {},
   "outputs": [
    {
     "data": {
      "text/plain": [
       "300"
      ]
     },
     "execution_count": 26,
     "metadata": {},
     "output_type": "execute_result"
    }
   ],
   "source": [
    "len(k.cluster_centers_)"
   ]
  },
  {
   "cell_type": "code",
   "execution_count": 43,
   "metadata": {},
   "outputs": [
    {
     "data": {
      "text/plain": [
       "array([283], dtype=int32)"
      ]
     },
     "execution_count": 43,
     "metadata": {},
     "output_type": "execute_result"
    }
   ],
   "source": [
    "t = np.array(kmns)\n",
    "ch = k.predict([t[2]])\n",
    "k.predict([t[2]])"
   ]
  },
  {
   "cell_type": "code",
   "execution_count": 44,
   "metadata": {},
   "outputs": [
    {
     "data": {
      "text/plain": [
       "283"
      ]
     },
     "execution_count": 44,
     "metadata": {},
     "output_type": "execute_result"
    }
   ],
   "source": [
    "ch[0]"
   ]
  },
  {
   "cell_type": "code",
   "execution_count": 46,
   "metadata": {},
   "outputs": [],
   "source": [
    "for i in t:\n",
    "    idx = k.predict([i])\n",
    "    clus[idx[0]] += 1"
   ]
  },
  {
   "cell_type": "code",
   "execution_count": null,
   "metadata": {},
   "outputs": [],
   "source": [
    "from matplotlib.pyplot import plot as plt\n",
    "\n",
    "xaxis = [i+1 for i in range(301)]"
   ]
  },
  {
   "cell_type": "code",
   "execution_count": null,
   "metadata": {},
   "outputs": [],
   "source": []
  }
 ],
 "metadata": {
  "kernelspec": {
   "display_name": "Python 3.10.6 ('nishkal')",
   "language": "python",
   "name": "python3"
  },
  "language_info": {
   "codemirror_mode": {
    "name": "ipython",
    "version": 3
   },
   "file_extension": ".py",
   "mimetype": "text/x-python",
   "name": "python",
   "nbconvert_exporter": "python",
   "pygments_lexer": "ipython3",
   "version": "3.10.6 (main, Oct 24 2022, 16:07:47) [GCC 11.2.0]"
  },
  "orig_nbformat": 4,
  "vscode": {
   "interpreter": {
    "hash": "77437680eeaa05ad5d64373e29343db8bb6182732437810cb49dd310ee0a7495"
   }
  }
 },
 "nbformat": 4,
 "nbformat_minor": 2
}
